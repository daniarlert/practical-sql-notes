{
 "cells": [
  {
   "cell_type": "code",
   "execution_count": null,
   "metadata": {},
   "outputs": [],
   "source": [
    "# Import dependencies.\n",
    "from sqlite3 import connect\n",
    "import pandas as pd"
   ]
  },
  {
   "cell_type": "code",
   "execution_count": null,
   "metadata": {},
   "outputs": [],
   "source": [
    "# Connect or create a database.\n",
    "conn = connect('./data/analysis.db')"
   ]
  },
  {
   "cell_type": "code",
   "execution_count": null,
   "metadata": {},
   "outputs": [],
   "source": [
    "# Get cursor.\n",
    "cursor = conn.cursor()"
   ]
  },
  {
   "cell_type": "code",
   "execution_count": null,
   "metadata": {},
   "outputs": [],
   "source": [
    "# Create teachers table.\n",
    "query = \"\"\"\n",
    "CREATE TABLE us_counties_pop_est_2019 (\n",
    "    state_fips TEXT,\n",
    "    county_fips TEXT,\n",
    "    region INT,\n",
    "    state_name TEXT,\n",
    "    county_name TEXT,\n",
    "    area_land INT,\n",
    "    area_water INT,\n",
    "    internal_point_lat REAL,\n",
    "    internal_point_lon REAL,\n",
    "    pop_est_2018 INT,\n",
    "    pop_est_2019 INT,\n",
    "    births_2019 INT,\n",
    "    deaths_2019 INT,\n",
    "    international_migr_2019 INT,\n",
    "    domestic_migr_2019 INT,\n",
    "    residual_2019 INT,\n",
    "    CONSTRAINT counties_2019_key PRIMARY KEY (state_fips, county_fips)\n",
    ");\n",
    "\"\"\"\n",
    "\n",
    "cursor.execute(query)"
   ]
  },
  {
   "cell_type": "code",
   "execution_count": null,
   "metadata": {},
   "outputs": [],
   "source": [
    "# Quickly look at the table.\n",
    "df = pd.read_sql_query('SELECT * FROM us_counties_pop_est_2019', conn)\n",
    "df.describe()"
   ]
  },
  {
   "cell_type": "code",
   "execution_count": null,
   "metadata": {},
   "outputs": [],
   "source": [
    "# Load data into a Pandas dataframe.\n",
    "us_counties = pd.read_csv('./data/us_counties_pop_est_2019.csv')\n",
    "# Write the data to SQLite table.\n",
    "us_counties.to_sql('us_counties_pop_est_2019', if_exists='append', index=False, con=conn)"
   ]
  },
  {
   "cell_type": "code",
   "execution_count": null,
   "metadata": {},
   "outputs": [],
   "source": [
    "# Quickly look at the table.\n",
    "df = pd.read_sql_query('SELECT * FROM us_counties_pop_est_2019', conn)\n",
    "df.head()"
   ]
  },
  {
   "cell_type": "code",
   "execution_count": null,
   "metadata": {},
   "outputs": [],
   "source": [
    "# Number of rows.\n",
    "len(df)"
   ]
  },
  {
   "cell_type": "code",
   "execution_count": null,
   "metadata": {},
   "outputs": [],
   "source": [
    "# A better look at the data.\n",
    "df.describe()"
   ]
  }
 ],
 "metadata": {
  "kernelspec": {
   "display_name": "Python 3.10.7 ('venv': venv)",
   "language": "python",
   "name": "python3"
  },
  "language_info": {
   "codemirror_mode": {
    "name": "ipython",
    "version": 3
   },
   "file_extension": ".py",
   "mimetype": "text/x-python",
   "name": "python",
   "nbconvert_exporter": "python",
   "pygments_lexer": "ipython3",
   "version": "3.10.7"
  },
  "orig_nbformat": 4,
  "vscode": {
   "interpreter": {
    "hash": "9b0046579cf3d9bc9b08b5fe4889ef9a1b4695e35212f0fc9ed53531f9c7ae98"
   }
  }
 },
 "nbformat": 4,
 "nbformat_minor": 2
}
