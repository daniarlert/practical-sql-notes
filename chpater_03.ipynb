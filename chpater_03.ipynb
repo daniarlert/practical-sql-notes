{
 "cells": [
  {
   "cell_type": "code",
   "execution_count": null,
   "metadata": {},
   "outputs": [],
   "source": [
    "# Import dependencies.\n",
    "from sqlite3 import connect\n",
    "import pandas as pd"
   ]
  },
  {
   "cell_type": "code",
   "execution_count": null,
   "metadata": {},
   "outputs": [],
   "source": [
    "# Connect or create a database and get cursor.\n",
    "conn = connect('./data/analysis.db')\n",
    "cursor = conn.cursor()"
   ]
  },
  {
   "cell_type": "code",
   "execution_count": null,
   "metadata": {},
   "outputs": [],
   "source": [
    "# Create teachers table.\n",
    "query = \"\"\"\n",
    "CREATE TABLE teachers (\n",
    "    id INTEGER PRIMARY KEY,\n",
    "    first_name TEXT,\n",
    "    last_name TEXT,\n",
    "    school TEXT,\n",
    "    hire_date TEXT,\n",
    "    salary REAL\n",
    ");\n",
    "\"\"\"\n",
    "\n",
    "cursor.execute(query)"
   ]
  },
  {
   "cell_type": "code",
   "execution_count": null,
   "metadata": {},
   "outputs": [],
   "source": [
    "# Insert data into teachers table.\n",
    "query = \"\"\"\n",
    "INSERT INTO teachers (first_name, last_name, school, hire_date, salary) VALUES ('Janet', 'Smith', 'F.D. Roosevelt HS', '2011-10-30', 36200),\n",
    "       ('Lee', 'Reynolds', 'F.D. Roosevelt HS', '1993-05-22', 65000),\n",
    "       ('Samuel', 'Cole', 'Myers Middle School', '2005-08-01', 43500),\n",
    "       ('Samantha', 'Bush', 'Myers Middle School', '2011-10-30', 36200),\n",
    "       ('Betty', 'Diaz', 'Myers Middle School', '2005-08-30', 43500),\n",
    "       ('Kathleen', 'Roush', 'F.D. Roosevelt HS', '2010-10-22', 38500);\n",
    "\"\"\"\n",
    "\n",
    "cursor.execute(query)"
   ]
  },
  {
   "cell_type": "code",
   "execution_count": null,
   "metadata": {},
   "outputs": [],
   "source": [
    "# Quickly look at the table.\n",
    "df = pd.read_sql_query('SELECT * FROM teachers', conn)\n",
    "df"
   ]
  },
  {
   "cell_type": "code",
   "execution_count": null,
   "metadata": {},
   "outputs": [],
   "source": [
    "# Query a subset of columns.\n",
    "df = pd.read_sql_query('SELECT last_name, first_name, salary FROM teachers;', conn)\n",
    "df"
   ]
  },
  {
   "cell_type": "code",
   "execution_count": null,
   "metadata": {},
   "outputs": [],
   "source": [
    "# Sort using ORDER BY.\n",
    "df = pd.read_sql_query('SELECT last_name, first_name, salary FROM teachers ORDER BY salary DESC;', conn)\n",
    "df"
   ]
  },
  {
   "cell_type": "code",
   "execution_count": null,
   "metadata": {},
   "outputs": [],
   "source": [
    "# Sort by more than one column.\n",
    "df = pd.read_sql_query('SELECT last_name, school, hire_date FROM teachers ORDER BY school ASC, hire_date DESC;', conn)\n",
    "df"
   ]
  },
  {
   "cell_type": "code",
   "execution_count": null,
   "metadata": {},
   "outputs": [],
   "source": [
    "# Eliminate duplicates with DISTINCT.\n",
    "df = pd.read_sql_query('SELECT DISTINCT school FROM teachers;', conn)\n",
    "df"
   ]
  },
  {
   "cell_type": "code",
   "execution_count": null,
   "metadata": {},
   "outputs": [],
   "source": [
    "# Use DISTINCT with more than one column.\n",
    "df = pd.read_sql_query('SELECT DISTINCT school, salary FROM teachers;', conn)\n",
    "df"
   ]
  },
  {
   "cell_type": "code",
   "execution_count": null,
   "metadata": {},
   "outputs": [],
   "source": [
    "# Filter rows with WHERE.\n",
    "df = pd.read_sql_query('SELECT last_name, school, hire_date FROM teachers WHERE school = \"Myers Middle School\"', conn)\n",
    "df"
   ]
  },
  {
   "cell_type": "code",
   "execution_count": null,
   "metadata": {},
   "outputs": [],
   "source": [
    "# LIKE with WHERE example.\n",
    "df = pd.read_sql_query('SELECT first_name FROM teachers WHERE first_name LIKE \"sam%\"', conn)\n",
    "df"
   ]
  },
  {
   "cell_type": "markdown",
   "metadata": {},
   "source": [
    "On SQLite the ILIKE operator does not exist."
   ]
  },
  {
   "cell_type": "code",
   "execution_count": null,
   "metadata": {},
   "outputs": [],
   "source": [
    "# Combine operators with AND.\n",
    "df = pd.read_sql_query('SELECT * FROM teachers WHERE school = \"Myers Middle School\" AND salary < 40000;', conn)\n",
    "df"
   ]
  },
  {
   "cell_type": "code",
   "execution_count": null,
   "metadata": {},
   "outputs": [],
   "source": [
    "# Combine operators with OR.\n",
    "df = pd.read_sql_query('SELECT * FROM teachers WHERE last_name = \"Cole\" OR last_name = \"Bush\"', conn)\n",
    "df"
   ]
  },
  {
   "cell_type": "code",
   "execution_count": null,
   "metadata": {},
   "outputs": [],
   "source": [
    "# It's better to follow the next convention when writing queries.\n",
    "df = pd.read_sql_query('SELECT * FROM teachers WHERE school LIKE \"%Roos%\" ORDER BY hire_date DESC;', conn)\n",
    "df"
   ]
  },
  {
   "cell_type": "code",
   "execution_count": null,
   "metadata": {},
   "outputs": [],
   "source": [
    "# Clean up teachers table.\n",
    "query = \"\"\"\n",
    "DROP TABLE teachers;\n",
    "\"\"\"\n",
    "\n",
    "cursor.execute(query)"
   ]
  },
  {
   "cell_type": "code",
   "execution_count": null,
   "metadata": {},
   "outputs": [],
   "source": [
    "# Close connection.\n",
    "conn.close()"
   ]
  }
 ],
 "metadata": {
  "kernelspec": {
   "display_name": "Python 3.10.7 ('venv': venv)",
   "language": "python",
   "name": "python3"
  },
  "language_info": {
   "codemirror_mode": {
    "name": "ipython",
    "version": 3
   },
   "file_extension": ".py",
   "mimetype": "text/x-python",
   "name": "python",
   "nbconvert_exporter": "python",
   "pygments_lexer": "ipython3",
   "version": "3.10.7"
  },
  "orig_nbformat": 4,
  "vscode": {
   "interpreter": {
    "hash": "9b0046579cf3d9bc9b08b5fe4889ef9a1b4695e35212f0fc9ed53531f9c7ae98"
   }
  }
 },
 "nbformat": 4,
 "nbformat_minor": 2
}
